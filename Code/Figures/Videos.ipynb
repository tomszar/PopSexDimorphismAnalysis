{
 "cells": [
  {
   "cell_type": "markdown",
   "metadata": {},
   "source": [
    "# Videos\n",
    "\n",
    "In this notebook we will generate videos of the face shape changes. Basically, we will generate pictures of faces along the different sex dimorphism vectors"
   ]
  },
  {
   "cell_type": "code",
   "execution_count": 1,
   "metadata": {},
   "outputs": [],
   "source": [
    "#Libraries\n",
    "import numpy as np\n",
    "import pandas as pd\n",
    "import os\n",
    "from Faces import *"
   ]
  },
  {
   "cell_type": "code",
   "execution_count": 2,
   "metadata": {},
   "outputs": [],
   "source": [
    "#Folders\n",
    "thispath      = os.getcwd()\n",
    "projpath      = os.path.realpath(\"../..\")\n",
    "pathlandmarks = os.path.join(projpath, \"Results\", \"Landmarks\")\n",
    "pathfacepca   = os.path.join(projpath, \"DataBases\", \"FacePCA\")\n",
    "pathvid       = os.path.join(projpath, \"Results\", \"Videos\")"
   ]
  },
  {
   "cell_type": "code",
   "execution_count": 3,
   "metadata": {},
   "outputs": [],
   "source": [
    "#Databases\n",
    "os.chdir(pathfacepca)\n",
    "facets = pd.read_csv(\"facets.csv\", header = None)\n",
    "os.chdir(pathlandmarks)\n",
    "landmark_sex_avg = np.matrix(pd.read_csv(\"sex_vector_average.csv\", header = None))"
   ]
  },
  {
   "cell_type": "markdown",
   "metadata": {},
   "source": [
    "Generating the photos"
   ]
  },
  {
   "cell_type": "code",
   "execution_count": 4,
   "metadata": {},
   "outputs": [],
   "source": [
    "os.chdir(pathvid)\n",
    "face1 = FaceShape(landmark_sex_avg[0], facets)\n",
    "face2 = FaceShape(landmark_sex_avg[1], facets)\n",
    "face1.create_video(face2, name=\"Sex_change1.mp4\")"
   ]
  },
  {
   "cell_type": "code",
   "execution_count": 4,
   "metadata": {},
   "outputs": [],
   "source": [
    "os.chdir(pathvid)\n",
    "face1 = FaceShape(landmark_sex_avg[2], facets)\n",
    "face2 = FaceShape(landmark_sex_avg[3], facets)\n",
    "face1.create_video(face2, name=\"Sex_change2.mp4\")"
   ]
  },
  {
   "cell_type": "code",
   "execution_count": 4,
   "metadata": {},
   "outputs": [],
   "source": [
    "os.chdir(pathvid)\n",
    "face1 = FaceShape(landmark_sex_avg[4], facets)\n",
    "face2 = FaceShape(landmark_sex_avg[5], facets)\n",
    "face1.create_video(face2, name=\"Sex_change3.mp4\")"
   ]
  },
  {
   "cell_type": "code",
   "execution_count": 4,
   "metadata": {},
   "outputs": [],
   "source": [
    "os.chdir(pathvid)\n",
    "face1 = FaceShape(landmark_sex_avg[0], facets)\n",
    "face2 = FaceShape(landmark_sex_avg[2], facets)\n",
    "face1.create_video(face2, name=\"Fem_change1.mp4\")"
   ]
  },
  {
   "cell_type": "code",
   "execution_count": 4,
   "metadata": {},
   "outputs": [],
   "source": [
    "os.chdir(pathvid)\n",
    "face1 = FaceShape(landmark_sex_avg[0], facets)\n",
    "face2 = FaceShape(landmark_sex_avg[4], facets)\n",
    "face1.create_video(face2, name=\"Fem_change2.mp4\")"
   ]
  },
  {
   "cell_type": "code",
   "execution_count": 4,
   "metadata": {},
   "outputs": [],
   "source": [
    "os.chdir(pathvid)\n",
    "face1 = FaceShape(landmark_sex_avg[2], facets)\n",
    "face2 = FaceShape(landmark_sex_avg[4], facets)\n",
    "face1.create_video(face2, name=\"Fem_change3.mp4\")"
   ]
  }
 ],
 "metadata": {
  "kernelspec": {
   "display_name": "Python 3",
   "language": "python",
   "name": "python3"
  },
  "language_info": {
   "codemirror_mode": {
    "name": "ipython",
    "version": 3
   },
   "file_extension": ".py",
   "mimetype": "text/x-python",
   "name": "python",
   "nbconvert_exporter": "python",
   "pygments_lexer": "ipython3",
   "version": "3.6.7"
  }
 },
 "nbformat": 4,
 "nbformat_minor": 2
}

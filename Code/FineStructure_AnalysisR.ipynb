{
 "cells": [
  {
   "cell_type": "code",
   "execution_count": 12,
   "metadata": {},
   "outputs": [
    {
     "name": "stderr",
     "output_type": "stream",
     "text": [
      "Warning message in file(filename, \"r\", encoding = encoding):\n",
      "“cannot open file 'FinestructureLibrary.R': No such file or directory”"
     ]
    },
    {
     "ename": "ERROR",
     "evalue": "Error in file(filename, \"r\", encoding = encoding): cannot open the connection\n",
     "execution_count": 12,
     "output_type": "error",
     "traceback": [
      "Error in file(filename, \"r\", encoding = encoding): cannot open the connection\nTraceback:\n",
      "1. source(\"FinestructureLibrary.R\")",
      "2. source(\"FinestructureLibrary.R\")",
      "3. file(filename, \"r\", encoding = encoding)"
     ]
    }
   ],
   "source": [
    "#libraries\n",
    "library(XML)\n",
    "library(ape)\n",
    "#library(dendextend)\n",
    "source(\"FinestructureLibrary.R\") # read in the R functions, which also calls the needed packages"
   ]
  },
  {
   "cell_type": "code",
   "execution_count": 2,
   "metadata": {},
   "outputs": [],
   "source": [
    "#Folders\n",
    "setwd('..')\n",
    "path <- getwd()"
   ]
  },
  {
   "cell_type": "code",
   "execution_count": 13,
   "metadata": {},
   "outputs": [],
   "source": [
    "setwd(paste(path, \"/Results\", sep = \"\"))\n",
    "comm_ids <- read.delim(\"common_ids.txt\", header = FALSE)"
   ]
  },
  {
   "cell_type": "code",
   "execution_count": 17,
   "metadata": {},
   "outputs": [
    {
     "ename": "ERROR",
     "evalue": "Error in Cairo::Cairo(width, height, tf, \"png\", pointsize, bg, \"transparent\", : Unknown font problem\n\n",
     "execution_count": 17,
     "output_type": "error",
     "traceback": [
      "Error in Cairo::Cairo(width, height, tf, \"png\", pointsize, bg, \"transparent\", : Unknown font problem\n\nTraceback:\n"
     ]
    },
    {
     "data": {
      "text/plain": [
       "Plot with title “Algo”"
      ]
     },
     "metadata": {},
     "output_type": "display_data",
     "source": "R display func"
    }
   ],
   "source": [
    "setwd(paste(path, \"/DataBases/Genotypes/FineStructure\", sep = \"\"))\n",
    "treexml <- xmlTreeParse(\"total_fs_linked.greedy_outputfile.xml\") ## read the tree as xml format\n",
    "ttree   <- extractTree(treexml) ## extract the tree into ape's phylo format\n",
    "## Will will instead remove \"perfect\" node labels\n",
    "ttree$node.label[ttree$node.label==\"1\"] <- \"\"\n",
    "ttree$node.label[ttree$node.label!=\"\"] <- format(as.numeric(ttree$node.label[ttree$node.label!=\"\"]),digits=2)\n",
    "tdend<-myapetodend(ttree,factor=1) # convert to dendrogram format\n",
    "#Cut\n",
    "tdend_cut <- cut(tdend, h = 8)$upper\n",
    "tdend_cut_low <- cut(tdend, h = 8)$lower\n",
    "tdend_cut %>% plot()"
   ]
  },
  {
   "cell_type": "code",
   "execution_count": null,
   "metadata": {},
   "outputs": [],
   "source": []
  },
  {
   "cell_type": "code",
   "execution_count": 18,
   "metadata": {},
   "outputs": [
    {
     "name": "stdout",
     "output_type": "stream",
     "text": [
      "--[dendrogram w/ 2 branches and 7 members at h = 11]\n",
      "  |--[dendrogram w/ 2 branches and 3 members at h = 9]\n",
      "  |  |--[dendrogram w/ 2 branches and 2 members at h = 8]\n",
      "  |  |  |--leaf \"Branch 1\" (h= 7 midpoint = 216, x.member = 427 )\n",
      "  |  |  `--leaf \"Branch 2\" (h= 5 midpoint = 103, x.member = 157 )\n",
      "  |  `--leaf \"Branch 3\" (h= 7 midpoint = 132, x.member = 326 )\n",
      "  `--[dendrogram w/ 2 branches and 4 members at h = 10]\n",
      "     |--[dendrogram w/ 2 branches and 3 members at h = 9]\n",
      "     |  |--[dendrogram w/ 2 branches and 2 members at h = 8] ..\n",
      "     |  `--leaf \"Branch 6\" (h= 7 midpoint = 1293, x.member = 2184 )\n",
      "     `--leaf \"Branch 7\" (h= 4 midpoint = 71.4, x.member = 187 )\n",
      "etc... \n"
     ]
    }
   ],
   "source": [
    "tdend_cut %>% head"
   ]
  },
  {
   "cell_type": "code",
   "execution_count": 10,
   "metadata": {},
   "outputs": [
    {
     "ename": "ERROR",
     "evalue": "Error in Cairo::Cairo(width, height, tf, \"png\", pointsize, bg, \"transparent\", : Unknown font problem\n\n",
     "execution_count": 10,
     "output_type": "error",
     "traceback": [
      "Error in Cairo::Cairo(width, height, tf, \"png\", pointsize, bg, \"transparent\", : Unknown font problem\n\nTraceback:\n"
     ]
    },
    {
     "data": {
      "text/plain": [
       "plot without title"
      ]
     },
     "metadata": {},
     "output_type": "display_data",
     "source": "R display func"
    }
   ],
   "source": [
    "tdend %>% plot"
   ]
  },
  {
   "cell_type": "code",
   "execution_count": 11,
   "metadata": {},
   "outputs": [],
   "source": [
    "#Creating clustering database\n",
    "fs_clusters <- as.data.frame(matrix(NA, nrow = length(labels(tdend)), ncol = 2))\n",
    "colnames(fs_clusters) <- c(\"ID\", \"cluster\")\n",
    "fs_clusters$ID <- labels(tdend)\n",
    "\n",
    "for(i in 1:7){\n",
    "  fs_clusters$cluster[fs_clusters$ID %in% labels(tdend_cut_low[[i]])] <- i\n",
    "}"
   ]
  },
  {
   "cell_type": "code",
   "execution_count": 12,
   "metadata": {},
   "outputs": [
    {
     "data": {
      "text/html": [
       "<dl class=dl-horizontal>\n",
       "\t<dt>1</dt>\n",
       "\t\t<dd>427</dd>\n",
       "\t<dt>2</dt>\n",
       "\t\t<dd>157</dd>\n",
       "\t<dt>3</dt>\n",
       "\t\t<dd>326</dd>\n",
       "\t<dt>4</dt>\n",
       "\t\t<dd>365</dd>\n",
       "\t<dt>5</dt>\n",
       "\t\t<dd>138</dd>\n",
       "\t<dt>6</dt>\n",
       "\t\t<dd>2184</dd>\n",
       "\t<dt>7</dt>\n",
       "\t\t<dd>187</dd>\n",
       "</dl>\n"
      ],
      "text/latex": [
       "\\begin{description*}\n",
       "\\item[1] 427\n",
       "\\item[2] 157\n",
       "\\item[3] 326\n",
       "\\item[4] 365\n",
       "\\item[5] 138\n",
       "\\item[6] 2184\n",
       "\\item[7] 187\n",
       "\\end{description*}\n"
      ],
      "text/markdown": [
       "1\n",
       ":   4272\n",
       ":   1573\n",
       ":   3264\n",
       ":   3655\n",
       ":   1386\n",
       ":   21847\n",
       ":   187\n",
       "\n"
      ],
      "text/plain": [
       "   1    2    3    4    5    6    7 \n",
       " 427  157  326  365  138 2184  187 "
      ]
     },
     "metadata": {},
     "output_type": "display_data"
    }
   ],
   "source": [
    "summary(as.factor(fs_clusters$cluster))"
   ]
  },
  {
   "cell_type": "code",
   "execution_count": 17,
   "metadata": {},
   "outputs": [],
   "source": [
    "fs_cluster_comm <- fs_clusters[fs_clusters$ID %in% comm_ids$V1,]"
   ]
  },
  {
   "cell_type": "code",
   "execution_count": 19,
   "metadata": {},
   "outputs": [
    {
     "data": {
      "text/html": [
       "<dl class=dl-horizontal>\n",
       "\t<dt>1</dt>\n",
       "\t\t<dd>201</dd>\n",
       "\t<dt>2</dt>\n",
       "\t\t<dd>25</dd>\n",
       "\t<dt>3</dt>\n",
       "\t\t<dd>75</dd>\n",
       "\t<dt>4</dt>\n",
       "\t\t<dd>184</dd>\n",
       "\t<dt>5</dt>\n",
       "\t\t<dd>91</dd>\n",
       "\t<dt>6</dt>\n",
       "\t\t<dd>1864</dd>\n",
       "\t<dt>7</dt>\n",
       "\t\t<dd>118</dd>\n",
       "</dl>\n"
      ],
      "text/latex": [
       "\\begin{description*}\n",
       "\\item[1] 201\n",
       "\\item[2] 25\n",
       "\\item[3] 75\n",
       "\\item[4] 184\n",
       "\\item[5] 91\n",
       "\\item[6] 1864\n",
       "\\item[7] 118\n",
       "\\end{description*}\n"
      ],
      "text/markdown": [
       "1\n",
       ":   2012\n",
       ":   253\n",
       ":   754\n",
       ":   1845\n",
       ":   916\n",
       ":   18647\n",
       ":   118\n",
       "\n"
      ],
      "text/plain": [
       "   1    2    3    4    5    6    7 \n",
       " 201   25   75  184   91 1864  118 "
      ]
     },
     "metadata": {},
     "output_type": "display_data"
    }
   ],
   "source": [
    "summary(as.factor(fs_cluster_comm$cluster))"
   ]
  }
 ],
 "metadata": {
  "kernelspec": {
   "display_name": "R",
   "language": "R",
   "name": "ir"
  },
  "language_info": {
   "codemirror_mode": "r",
   "file_extension": ".r",
   "mimetype": "text/x-r-source",
   "name": "R",
   "pygments_lexer": "r",
   "version": "3.5.1"
  }
 },
 "nbformat": 4,
 "nbformat_minor": 2
}

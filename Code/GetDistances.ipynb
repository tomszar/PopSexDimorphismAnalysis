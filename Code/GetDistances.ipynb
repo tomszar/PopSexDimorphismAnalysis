{
 "cells": [
  {
   "cell_type": "code",
   "execution_count": 1,
   "metadata": {},
   "outputs": [],
   "source": [
    "import numpy as np\n",
    "import pandas as pd\n",
    "import seaborn as sns\n",
    "import matplotlib.pyplot as plt\n",
    "import matplotlib.patches as mpatches\n",
    "import os\n",
    "from matplotlib import cm\n",
    "from matplotlib import gridspec\n",
    "from mayavi import mlab\n",
    "from matplotlib.offsetbox import (TextArea, DrawingArea, OffsetImage,\n",
    "                                  AnnotationBbox)\n",
    "\n",
    "#Folders\n",
    "projpath    = os.path.realpath(\"..\")\n",
    "pathvectors = os.path.join(projpath, \"Results\", \"Vectors\")\n",
    "pathfacepca  = os.path.join(projpath, \"DataBases\", \"FacePCA\")\n",
    "\n",
    "#Read data\n",
    "#os.chdir(pathdbases)\n",
    "#ibd_fs = pd.read_csv(\"IBD_FS.csv\", sep=\",\")\n",
    "\n",
    "#os.chdir(pathmerged)\n",
    "#mergeddat = pd.read_csv(\"MergedDat.csv\", sep=\",\")\n",
    "\n",
    "os.chdir(pathvectors)\n",
    "sex_landmarks_nonallo = np.matrix(pd.read_csv(\"sex_landmarks_nonallo.csv\", sep=\",\"))\n",
    "sex_landmarks_total   = np.matrix(pd.read_csv(\"sex_landmarks_total.csv\", sep=\",\"))\n",
    "sex_landmarks_groups  = pd.read_csv(\"sex_landmarks_groups.csv\", sep=\",\")\n",
    "\n",
    "os.chdir(pathfacepca)\n",
    "#eigenvectors = pd.read_csv(\"eigenvectors.csv\", sep=\",\", header=None)\n",
    "#means        = pd.read_csv(\"means.txt\", sep=\",\", header=None)\n",
    "facets       = pd.read_csv(\"facets.csv\", sep=\",\", header=None)\n",
    "\n",
    "#Getting landmarks from PCA scores\n",
    "#sex_landmarks = ( ( np.matrix(sex_vectors_total.iloc[:,0:70]) * 1)  * np.matrix(eigenvectors).transpose() ) + np.matrix(means).transpose()\n",
    "\n",
    "#Getting landmarks for extreme PCs\n",
    "#PCs = np.zeros([4,35])\n",
    "#PCs[0][0] = (mergeddat.std()*3)[0]\n",
    "#PCs[1][0] = -(mergeddat.std()*3)[0]\n",
    "#PCs[2][1] = (mergeddat.std()*3)[1]\n",
    "#Cs[3][1] = -(mergeddat.std()*3)[1]\n",
    "#PCs_landmarks = ( np.matrix(PCs) * np.matrix(eigenvectors).transpose() ) + np.matrix(means).transpose()\n",
    "#avg_landmarks = (np.matrix(np.zeros(35)) * np.matrix(eigenvectors).transpose() ) + np.matrix(means).transpose()\n"
   ]
  },
  {
   "cell_type": "code",
   "execution_count": 2,
   "metadata": {},
   "outputs": [],
   "source": [
    "#### FUNCTIONS ######\n",
    "def get_euc_dist(landmark1, landmark2):\n",
    "    '''\n",
    "    Get the Euclidean distances between to set of 3D landmarks\n",
    "    Usage\n",
    "        Input:\n",
    "            - landmark1 and landmark2: set of 3D landmarks in one single row, in X,Y,Z consecutive fashion, to compute the distances from\n",
    "        Output:\n",
    "            - euc_dist: euclidean distance between corresponding set of 3D landmarks\n",
    "    '''\n",
    "    #Importing libraries\n",
    "    import numpy as np\n",
    "    import pandas as pd\n",
    "    \n",
    "    #Setting number of landmarks\n",
    "    n_landmarks = int(landmark1.shape[1] / 3)\n",
    "    \n",
    "    #Reshaping landmarks\n",
    "    face1 = landmark1.reshape(n_landmarks, 3)\n",
    "    face2 = landmark2.reshape(n_landmarks, 3)\n",
    "    #Calculating euclidean distance\n",
    "    euc_dist = np.array(np.sqrt(np.sum(np.power(face1 - face2, 2), axis=1))).flatten()\n",
    "    return(euc_dist)\n",
    "\n",
    "def get_norm_disp(landmark1, landmark2, facets):\n",
    "    '''\n",
    "    Get the normal displacement between set of 3D landmarks\n",
    "    Usage\n",
    "        Input:\n",
    "            - landmark1 and landmark2: set of 3D landmarks in one single row, in X,Y,Z consecutive fashion, to compute the distances from\n",
    "            - facets: facets connecting the 3D point to form a polygon\n",
    "        Output:\n",
    "            - norm_disp: normal displacement\n",
    "    '''\n",
    "    \n",
    "    #Importing libraries\n",
    "    import numpy as np\n",
    "    import pandas as pd\n",
    "    \n",
    "    facets = np.matrix(facets)\n",
    "    \n",
    "    #Setting number of landmarks\n",
    "    n_landmarks = int(landmark1.shape[1] / 3)\n",
    "    \n",
    "    #Reshaping landmarks\n",
    "    face1 = landmark1.reshape(n_landmarks, 3)\n",
    "    face2 = landmark2.reshape(n_landmarks, 3)\n",
    "    \n",
    "    #Create a zeroed array with the same type and shape as our vertices i.e., per vertex normal\n",
    "    norm = np.zeros( face1.shape, dtype=face1.dtype )\n",
    "    \n",
    "        "
   ]
  },
  {
   "cell_type": "code",
   "execution_count": 9,
   "metadata": {},
   "outputs": [],
   "source": [
    "euc_dist= get_euc_dist(sex_landmarks_nonallo[0], sex_landmarks_nonallo[4])"
   ]
  },
  {
   "cell_type": "code",
   "execution_count": 82,
   "metadata": {},
   "outputs": [
    {
     "data": {
      "text/plain": [
       "array([[-0.97587041, -0.20695325,  0.06962258],\n",
       "       [-0.97371963, -0.22122659,  0.05411903],\n",
       "       [-0.97066445, -0.23717746,  0.03946359],\n",
       "       ...,\n",
       "       [ 0.97392388, -0.16258908,  0.15823105],\n",
       "       [ 0.97329931, -0.14644303,  0.17675658],\n",
       "       [ 0.97221138, -0.13300404,  0.19265245]])"
      ]
     },
     "execution_count": 82,
     "metadata": {},
     "output_type": "execute_result"
    }
   ],
   "source": [
    "#Comparing METHODS\n",
    "\n",
    "#METHOD 1 (https://sites.google.com/site/dlampetest/python/calculating-normals-of-a-triangle-mesh-using-numpy)\n",
    "def normalize_v3(arr):\n",
    "    ''' \n",
    "    Normalize a numpy array of 3 component vectors shape=(n,3) \n",
    "    '''\n",
    "    lens = np.sqrt( arr[:,0]**2 + arr[:,1]**2 + arr[:,2]**2 )\n",
    "    arr[:,0] /= lens\n",
    "    arr[:,1] /= lens\n",
    "    arr[:,2] /= lens                \n",
    "    return(arr)\n",
    "\n",
    "norm = np.zeros( face1.shape, dtype=face1.dtype )\n",
    "n_landmarks = int(sex_landmarks_nonallo[0].shape[1] / 3)\n",
    "face1 = sex_landmarks_nonallo[0].reshape(n_landmarks, 3)\n",
    "face2 = sex_landmarks_nonallo[4].reshape(n_landmarks, 3)\n",
    "faces = np.matrix(facets)\n",
    "tris = face1[faces-1]\n",
    "#Calculate the normal for all the triangles, by taking the cross product of the vectors v1-v0, and v2-v0 in each triangle             \n",
    "n = np.cross( tris[::,1 ] - tris[::,0]  , tris[::,2 ] - tris[::,0] )\n",
    "normalize_v3(n)\n",
    "norm[ faces[:,0].flatten() -1 ] += n\n",
    "norm[ faces[:,1].flatten() -1 ] += n\n",
    "norm[ faces[:,2].flatten() -1 ] += n\n",
    "normalize_v3(norm)"
   ]
  },
  {
   "cell_type": "code",
   "execution_count": 114,
   "metadata": {},
   "outputs": [
    {
     "data": {
      "text/plain": [
       "array([[ 0.68647611, -0.72714585,  0.00307691],\n",
       "       [-0.41663866, -0.79746992,  0.4364103 ],\n",
       "       [ 0.561194  , -0.48419887,  0.67127696],\n",
       "       [ 0.53644249,  0.60476166,  0.58863638],\n",
       "       [-0.49963522, -0.79064121, -0.35390836],\n",
       "       [ 0.17280246, -0.97347702, -0.14993929],\n",
       "       [ 0.84690504,  0.45590931,  0.27367601],\n",
       "       [ 0.61293173,  0.4128088 , -0.67372367],\n",
       "       [ 0.61293173,  0.4128088 , -0.67372367],\n",
       "       [ 0.61293173,  0.4128088 , -0.67372367]])"
      ]
     },
     "execution_count": 114,
     "metadata": {},
     "output_type": "execute_result"
    }
   ],
   "source": [
    "vertices = np.array([[ 0.82667452,  0.89591247,  0.91638623],\n",
    "                        [ 0.10045271,  0.50575086,  0.73920507],\n",
    "                        [ 0.06341482,  0.17413744,  0.6316301 ],\n",
    "                        [ 0.75613029,  0.82585983,  0.10012549],\n",
    "                        [ 0.45498342,  0.5636221 ,  0.10940527],\n",
    "                        [ 0.46079863,  0.54088544,  0.1519899 ],\n",
    "                        [ 0.61961934,  0.78550213,  0.43406491],\n",
    "                        [ 0.12654252,  0.7514213 ,  0.18265301],\n",
    "                        [ 0.94441365,  0.00428673,  0.46893573],\n",
    "                        [ 0.79083297,  0.70198129,  0.75670947]] )\n",
    "faces = np.array( [ [0,1,2],\n",
    "                       [0,2,3], \n",
    "                       [1,2,3], \n",
    "                       [1,4,5], \n",
    "                       [2,5,6], \n",
    "                       [6,3,7], \n",
    "                       [9,8,7] ] )\n",
    "\n",
    "#Create a zeroed array with the same type and shape as our vertices i.e., per vertex normal\n",
    "norm = np.zeros( vertices.shape, dtype=vertices.dtype )\n",
    "#Create an indexed view into the vertex array using the array of three indices for triangles\n",
    "tris = vertices[faces]\n",
    "#Calculate the normal for all the triangles, by taking the cross product of the vectors v1-v0, and v2-v0 in each triangle             \n",
    "n = np.cross( tris[::,1 ] - tris[::,0]  , tris[::,2 ] - tris[::,0] )\n",
    "# n is now an array of normals per triangle. The length of each normal is dependent the vertices, \n",
    "# we need to normalize these, so that our next step weights each normal equally.\n",
    "normalize_v3(n)\n",
    "# now we have a normalized array of normals, one per triangle, i.e., per triangle normals.\n",
    "# But instead of one per triangle (i.e., flat shading), we add to each vertex in that triangle, \n",
    "# the triangles' normal. Multiple triangles would then contribute to every vertex, so we need to normalize again afterwards.\n",
    "# The cool part, we can actually add the normals through an indexed view of our (zeroed) per vertex normal array\n",
    "norm[ faces[:,0] ] += n\n",
    "norm[ faces[:,1] ] += n\n",
    "norm[ faces[:,2] ] += n\n",
    "normalize_v3(norm)"
   ]
  },
  {
   "cell_type": "code",
   "execution_count": 112,
   "metadata": {},
   "outputs": [],
   "source": [
    "#METHOD 2 (https://www.mathworks.com/matlabcentral/fileexchange/24330-patch-normals)\n",
    "\n",
    "# Get all edge vectors\n",
    "tris = face1[faces-1]\n",
    "e1 = tris[:,:,0] - tris[:,:,1]\n",
    "e2 = tris[:,:,1] - tris[:,:,2]\n",
    "e3 = tris[:,:,0] - tris[:,:,2]\n",
    "#e1 = face1[ faces[:,0].flatten() -1 ,:] - face1[ faces[:,1].flatten() -1 ,:];\n",
    "#e2 = face1[ faces[:,1].flatten() -1 ,:] - face1[ faces[:,2].flatten() -1 ,:];\n",
    "#e3 = face1[ faces[:,2].flatten() -1 ,:] - face1[ faces[:,0].flatten() -1 ,:];\n",
    "\n",
    "# Normalize edge vectors\n",
    "e1_norm = e1 ./ repmat(sqrt(e1(:,1).^2 + e1(:,2).^2+e1(:,3).^2),1,3); \n",
    "e2_norm = e2 ./ repmat(sqrt(e2(:,1).^2 + e2(:,2).^2+e2(:,3).^2),1,3); \n",
    "e3_norm = e3 ./ repmat(sqrt(e3(:,1).^2 + e3(:,2).^2+e3(:,3).^2),1,3);"
   ]
  },
  {
   "cell_type": "code",
   "execution_count": 111,
   "metadata": {},
   "outputs": [
    {
     "data": {
      "text/plain": [
       "matrix([[-0.0070817 , -0.00739693, -0.00718243],\n",
       "        [-0.0070817 , -0.00768736, -0.00739693],\n",
       "        [-0.00669199, -0.00696082, -0.00646323],\n",
       "        ...,\n",
       "        [-0.01503748, -0.01533616, -0.01467541],\n",
       "        [-0.01533616, -0.01499108, -0.01467541],\n",
       "        [-0.01499108, -0.01462813, -0.01467541]])"
      ]
     },
     "execution_count": 111,
     "metadata": {},
     "output_type": "execute_result"
    }
   ],
   "source": [
    "e1"
   ]
  },
  {
   "cell_type": "code",
   "execution_count": 100,
   "metadata": {},
   "outputs": [
    {
     "data": {
      "text/plain": [
       "matrix([[3688],\n",
       "        [3688],\n",
       "        [3684],\n",
       "        ...,\n",
       "        [  87],\n",
       "        [  71],\n",
       "        [  80]])"
      ]
     },
     "execution_count": 100,
     "metadata": {},
     "output_type": "execute_result"
    }
   ],
   "source": [
    "faces[:,0]"
   ]
  }
 ],
 "metadata": {
  "kernelspec": {
   "display_name": "Python 3",
   "language": "python",
   "name": "python3"
  },
  "language_info": {
   "codemirror_mode": {
    "name": "ipython",
    "version": 3
   },
   "file_extension": ".py",
   "mimetype": "text/x-python",
   "name": "python",
   "nbconvert_exporter": "python",
   "pygments_lexer": "ipython3",
   "version": "3.6.6"
  }
 },
 "nbformat": 4,
 "nbformat_minor": 2
}
